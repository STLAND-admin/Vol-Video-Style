{
 "cells": [
  {
   "cell_type": "code",
   "execution_count": 3,
   "metadata": {},
   "outputs": [
    {
     "name": "stdout",
     "output_type": "stream",
     "text": [
      "164\n"
     ]
    },
    {
     "data": {
      "text/plain": [
       "<function VideoWriter.release>"
      ]
     },
     "execution_count": 3,
     "metadata": {},
     "output_type": "execute_result"
    }
   ],
   "source": [
    "import cv2\n",
    "import glob\n",
    "imgArray = []\n",
    "CASE = \"chicken\"\n",
    "for filename in sorted(glob.glob(f\"exp/{CASE}/result_deform_mlp_wodepth_NeRF/validations_rgbs/*.png\")):\n",
    "    img = cv2.imread(filename)\n",
    "    h,w,c = img.shape\n",
    "    size = (w,h)\n",
    "    imgArray.append(img)\n",
    "print(len(imgArray))\n",
    "out =cv2.VideoWriter(\"RenderVideo.avi\",cv2.VideoWriter_fourcc(*'DIVX'),12,size)\n",
    "# imgArray.sort()\n",
    "for i in range(len(imgArray)):\n",
    "    if i % 2 == 0:\n",
    "        out.write(imgArray[i])\n",
    "\n",
    "out.release"
   ]
  },
  {
   "cell_type": "code",
   "execution_count": 3,
   "metadata": {},
   "outputs": [
    {
     "name": "stdout",
     "output_type": "stream",
     "text": [
      "120\n"
     ]
    },
    {
     "data": {
      "text/plain": [
       "<function VideoWriter.release>"
      ]
     },
     "execution_count": 3,
     "metadata": {},
     "output_type": "execute_result"
    }
   ],
   "source": [
    "import cv2\n",
    "import glob\n",
    "imgArray = []\n",
    "CASE = \"broom\"\n",
    "for filename in sorted(glob.glob(f\"exp/{CASE}/result_deform_mlp_wodepth_style_NGPStyle/novel_video_rgbs/*.png\")):\n",
    "    img = cv2.imread(filename)\n",
    "    h,w,c = img.shape\n",
    "    size = (w,h)\n",
    "    imgArray.append(img)\n",
    "print(len(imgArray))\n",
    "out =cv2.VideoWriter(\"RenderNGPVideo.avi\",cv2.VideoWriter_fourcc(*'DIVX'),12,size)\n",
    "# imgArray.sort()\n",
    "for i in range(len(imgArray)):\n",
    "    if i % 2 == 0:\n",
    "        out.write(imgArray[i])\n",
    "\n",
    "out.release"
   ]
  },
  {
   "cell_type": "code",
   "execution_count": 3,
   "metadata": {},
   "outputs": [
    {
     "name": "stdout",
     "output_type": "stream",
     "text": [
      "414\n"
     ]
    },
    {
     "data": {
      "text/plain": [
       "<function VideoWriter.release>"
      ]
     },
     "execution_count": 3,
     "metadata": {},
     "output_type": "execute_result"
    }
   ],
   "source": [
    "import cv2\n",
    "import glob\n",
    "imgArray = []\n",
    "\n",
    "for filename in sorted(glob.glob(\"datasets/hypernerf/3dprinter/rgb/2x/*.png\")):\n",
    "    img = cv2.imread(filename)\n",
    "    h,w,c = img.shape\n",
    "    size = (w,h)\n",
    "    imgArray.append(img)\n",
    "print(len(imgArray))\n",
    "out =cv2.VideoWriter(\"RenderVideoGT.avi\",cv2.VideoWriter_fourcc(*'DIVX'),12,size)\n",
    "# imgArray.sort()\n",
    "for i in range(len(imgArray)):\n",
    "    if i > 307:\n",
    "        break\n",
    "\n",
    "    out.write(imgArray[i])\n",
    "\n",
    "out.release"
   ]
  }
 ],
 "metadata": {
  "kernelspec": {
   "display_name": "dycheck",
   "language": "python",
   "name": "python3"
  },
  "language_info": {
   "codemirror_mode": {
    "name": "ipython",
    "version": 3
   },
   "file_extension": ".py",
   "mimetype": "text/x-python",
   "name": "python",
   "nbconvert_exporter": "python",
   "pygments_lexer": "ipython3",
   "version": "3.8.10"
  },
  "orig_nbformat": 4
 },
 "nbformat": 4,
 "nbformat_minor": 2
}
